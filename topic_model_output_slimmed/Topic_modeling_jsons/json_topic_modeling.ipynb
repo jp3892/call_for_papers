{
 "cells": [
  {
   "cell_type": "code",
   "execution_count": 21,
   "id": "2bf23f4c-526c-422a-afb5-8a95c4be557c",
   "metadata": {
    "tags": []
   },
   "outputs": [
    {
     "name": "stdout",
     "output_type": "stream",
     "text": [
      "Saved 20 topics to /Users/juanpabloalbornoz/Documents/CfPs Dataset and Documentation/Python notebooks/Website/Topic_modeling/topics_medieval.json\n"
     ]
    }
   ],
   "source": [
    "#test with Victorian category\n",
    "import json\n",
    "\n",
    "category = \"medieval\"\n",
    "# Paths\n",
    "TOPIC_KEYS_PATH = f\"/Users/juanpabloalbornoz/Documents/CfPs Dataset and Documentation/DATA/topic_model_output_2/cfps20_{category.replace(' ', '_')}/mallet.topic_keys.20\"\n",
    "LABELS_PATH = f\"/Users/juanpabloalbornoz/Documents/CfPs Dataset and Documentation/Python notebooks/Website/Topic_modeling/manual_labels_{category.replace(' ', '_')}.txt\"\n",
    "OUTPUT_PATH = f\"/Users/juanpabloalbornoz/Documents/CfPs Dataset and Documentation/Python notebooks/Website/Topic_modeling/topics_{category.replace(' ', '_')}.json\"\n",
    "\n",
    "# Load topic labels\n",
    "\n",
    "labels = {}\n",
    "with open(LABELS_PATH, \"r\") as f:\n",
    "    for lineno, line in enumerate(f, 1):\n",
    "        line = line.replace(\"\\\\t\", \"\\t\")  # convert literal backslash-t to tab\n",
    "        parts = line.strip().split(\"\\t\", 1)\n",
    "        if len(parts) != 2:\n",
    "            print(f\"Skipping malformed line {lineno}: {repr(line)}\")\n",
    "            continue\n",
    "        topic_id, label = parts\n",
    "        labels[int(topic_id)] = label\n",
    "\n",
    "\n",
    "# Load topic keys\n",
    "topics = []\n",
    "with open(TOPIC_KEYS_PATH, \"r\") as f:\n",
    "    for line in f:\n",
    "        topic_id, alpha, words = line.strip().split(\"\\t\")\n",
    "        topic_id = int(topic_id)\n",
    "        top_words = words.split()\n",
    "        topics.append({\n",
    "            \"topic_id\": topic_id,\n",
    "            \"label\": labels.get(topic_id, f\"Topic {topic_id}\"),\n",
    "            \"top_words\": top_words\n",
    "        })\n",
    "\n",
    "# Write JSON\n",
    "with open(OUTPUT_PATH, \"w\") as out:\n",
    "    json.dump(topics, out, indent=2)\n",
    "\n",
    "print(f\"Saved {len(topics)} topics to {OUTPUT_PATH}\")\n"
   ]
  },
  {
   "cell_type": "code",
   "execution_count": 19,
   "id": "3abee1d8-f949-4b0a-a194-9661941924c6",
   "metadata": {
    "tags": []
   },
   "outputs": [
    {
     "name": "stdout",
     "output_type": "stream",
     "text": [
      "Saved 20 topics to /Users/juanpabloalbornoz/Documents/CfPs Dataset and Documentation/Python notebooks/Website/Topic_modeling/topics_theory.json\n"
     ]
    }
   ],
   "source": [
    "#theory\n",
    "# Paths\n",
    "TOPIC_KEYS_PATH = \"/Users/juanpabloalbornoz/Documents/CfPs Dataset and Documentation/DATA/topic_model_output_2/cfps20_theory/mallet.topic_keys.20\"\n",
    "LABELS_PATH = \"/Users/juanpabloalbornoz/Documents/CfPs Dataset and Documentation/Python notebooks/Website/Topic_modeling/manual_labels_theory.txt\"\n",
    "OUTPUT_PATH = \"/Users/juanpabloalbornoz/Documents/CfPs Dataset and Documentation/Python notebooks/Website/Topic_modeling/topics_theory.json\"\n",
    "\n",
    "# Load topic labels\n",
    "\n",
    "labels = {}\n",
    "with open(LABELS_PATH, \"r\") as f:\n",
    "    for lineno, line in enumerate(f, 1):\n",
    "        line = line.replace(\"\\\\t\", \"\\t\")  # convert literal backslash-t to tab\n",
    "        parts = line.strip().split(\"\\t\", 1)\n",
    "        if len(parts) != 2:\n",
    "            print(f\"Skipping malformed line {lineno}: {repr(line)}\")\n",
    "            continue\n",
    "        topic_id, label = parts\n",
    "        labels[int(topic_id)] = label\n",
    "\n",
    "\n",
    "# Load topic keys\n",
    "topics = []\n",
    "with open(TOPIC_KEYS_PATH, \"r\") as f:\n",
    "    for line in f:\n",
    "        topic_id, alpha, words = line.strip().split(\"\\t\")\n",
    "        topic_id = int(topic_id)\n",
    "        top_words = words.split()\n",
    "        topics.append({\n",
    "            \"topic_id\": topic_id,\n",
    "            \"label\": labels.get(topic_id, f\"Topic {topic_id}\"),\n",
    "            \"top_words\": top_words\n",
    "        })\n",
    "\n",
    "# Write JSON\n",
    "with open(OUTPUT_PATH, \"w\") as out:\n",
    "    json.dump(topics, out, indent=2)\n",
    "\n",
    "print(f\"Saved {len(topics)} topics to {OUTPUT_PATH}\")"
   ]
  },
  {
   "cell_type": "code",
   "execution_count": null,
   "id": "3df00c54-c3fa-4317-abba-0984d128fbe1",
   "metadata": {},
   "outputs": [],
   "source": [
    "#"
   ]
  }
 ],
 "metadata": {
  "kernelspec": {
   "display_name": "Python 3 (ipykernel)",
   "language": "python",
   "name": "python3"
  },
  "language_info": {
   "codemirror_mode": {
    "name": "ipython",
    "version": 3
   },
   "file_extension": ".py",
   "mimetype": "text/x-python",
   "name": "python",
   "nbconvert_exporter": "python",
   "pygments_lexer": "ipython3",
   "version": "3.11.5"
  }
 },
 "nbformat": 4,
 "nbformat_minor": 5
}
